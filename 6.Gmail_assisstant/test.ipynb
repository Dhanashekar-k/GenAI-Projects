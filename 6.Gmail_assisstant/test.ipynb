{
 "cells": [
  {
   "cell_type": "code",
   "execution_count": 1,
   "id": "4e03b874",
   "metadata": {},
   "outputs": [
    {
     "name": "stdout",
     "output_type": "stream",
     "text": [
      "Please visit this URL to authorize this application: https://accounts.google.com/o/oauth2/auth?response_type=code&client_id=376714772999-edi72200ielsailvih1csvre9vmmmmmf.apps.googleusercontent.com&redirect_uri=http%3A%2F%2Flocalhost%3A51766%2F&scope=https%3A%2F%2Fmail.google.com%2F&state=4xVX5utLNZsKcLQFzy95652CnMkPv2&access_type=offline\n"
     ]
    }
   ],
   "source": [
    "from langchain_community.agent_toolkits import GmailToolkit\n",
    "\n",
    "toolkit = GmailToolkit()"
   ]
  },
  {
   "cell_type": "code",
   "execution_count": 2,
   "id": "3c781a19",
   "metadata": {},
   "outputs": [],
   "source": [
    "from langchain_community.tools.gmail.utils import (\n",
    "    build_resource_service,\n",
    "    get_gmail_credentials,\n",
    ")\n",
    "\n",
    "# Can review scopes here https://developers.google.com/gmail/api/auth/scopes\n",
    "# For instance, readonly scope is 'https://www.googleapis.com/auth/gmail.readonly'\n",
    "credentials = get_gmail_credentials(\n",
    "    token_file=\"token.json\",\n",
    "    scopes=[\"https://mail.google.com/\"],\n",
    "    client_secrets_file=\"credentials.json\",\n",
    ")\n",
    "api_resource = build_resource_service(credentials=credentials)\n",
    "toolkit = GmailToolkit(api_resource=api_resource)"
   ]
  },
  {
   "cell_type": "code",
   "execution_count": 3,
   "id": "06a94e5d",
   "metadata": {},
   "outputs": [
    {
     "data": {
      "text/plain": [
       "[GmailCreateDraft(api_resource=<googleapiclient.discovery.Resource object at 0x000001FDCF6966B0>),\n",
       " GmailSendMessage(api_resource=<googleapiclient.discovery.Resource object at 0x000001FDCF6966B0>),\n",
       " GmailSearch(api_resource=<googleapiclient.discovery.Resource object at 0x000001FDCF6966B0>),\n",
       " GmailGetMessage(api_resource=<googleapiclient.discovery.Resource object at 0x000001FDCF6966B0>),\n",
       " GmailGetThread(api_resource=<googleapiclient.discovery.Resource object at 0x000001FDCF6966B0>)]"
      ]
     },
     "execution_count": 3,
     "metadata": {},
     "output_type": "execute_result"
    }
   ],
   "source": [
    "tools = toolkit.get_tools()\n",
    "tools"
   ]
  },
  {
   "cell_type": "code",
   "execution_count": 10,
   "id": "b4ef02bc",
   "metadata": {},
   "outputs": [],
   "source": [
    "import getpass\n",
    "import os\n",
    "\n",
    "api_key = os.getenv(\"OPENAI_API_KEY\")"
   ]
  },
  {
   "cell_type": "code",
   "execution_count": 5,
   "id": "ba09e864",
   "metadata": {},
   "outputs": [],
   "source": [
    "from langchain import hub\n",
    "from langchain.agents import AgentExecutor, create_openai_functions_agent\n",
    "from langchain_openai import ChatOpenAI"
   ]
  },
  {
   "cell_type": "code",
   "execution_count": 6,
   "id": "1944e7f1",
   "metadata": {},
   "outputs": [],
   "source": [
    "instructions = \"\"\"You are an assistant.\"\"\"\n",
    "base_prompt = hub.pull(\"langchain-ai/openai-functions-template\")\n",
    "prompt = base_prompt.partial(instructions=instructions)\n"
   ]
  },
  {
   "cell_type": "code",
   "execution_count": 11,
   "id": "2b5569fd",
   "metadata": {},
   "outputs": [],
   "source": [
    "llm = ChatOpenAI(model=\"gpt-4-turbo\",temperature=0,openai_api_key=api_key)\n",
    "agent = create_openai_functions_agent(llm, toolkit.get_tools(), prompt)\n",
    "agent_executor = AgentExecutor(\n",
    "    agent=agent,\n",
    "    tools=toolkit.get_tools(),\n",
    "    # This is set to False to prevent information about my email showing up on the screen\n",
    "    # Normally, it is helpful to have it set to True however.\n",
    "    verbose=False,\n",
    ")\n"
   ]
  },
  {
   "cell_type": "code",
   "execution_count": 12,
   "id": "ea5f8fd1",
   "metadata": {},
   "outputs": [
    {
     "data": {
      "text/plain": [
       "{'input': 'show me the latest 5 incoming emails.',\n",
       " 'output': \"Here are the latest 5 incoming emails in your inbox:\\n\\n1. **From:** Qatar Airways Privilege Club <email@qr.qatarairways.com>\\n   **Subject:** Dhanashekar, drive your way to triple Avios with Avis\\n   **Snippet:** Hire a vehicle to unlock amazing rewards. Drive your way to triple Avios with Avis and enjoy rewards on your car rentals.\\n\\n2. **From:** Target <targetnews@em.target.com>\\n   **Subject:** Inside: your weekly Target Circle deals 🎯\\n   **Snippet:** The easy way to find all your savings for the week. Check out the latest deals and new arrivals at Target.\\n\\n3. **From:** Tripadvisor <inspiration@mp1.tripadvisor.com>\\n   **Subject:** 12 supremely artsy cities we love 🎨\\n   **Snippet:** Plus, a relaxing weekend in Hawaii. Explore travel tips, insights, and inspiration for your next adventure.\\n\\n4. **From:** TechCareers.com <alert@email.nexxt.com>\\n   **Subject:** Alert: Following Research Intern\\n   **Snippet:** New Jobs Matching Your Search Criteria. Explore opportunities for a Research Intern and other related positions.\\n\\n5. **From:** Chase <no_reply@mcmap.chase.com>\\n   **Subject:** Message for Dhanashekar: See how much home you may be able to afford with Chase MyHome\\n   **Snippet:** Use Chase MyHome® to estimate your budget, view loans, and find a home you love — all in one place.\\n\\nLet me know if you need more details on any of these emails or if there's anything else you'd like to do!\"}"
      ]
     },
     "execution_count": 12,
     "metadata": {},
     "output_type": "execute_result"
    }
   ],
   "source": [
    "agent_executor.invoke(\n",
    "    {\n",
    "        \"input\": \"show me the latest 5 incoming emails.\"\n",
    "    }\n",
    ")"
   ]
  },
  {
   "cell_type": "code",
   "execution_count": null,
   "id": "d34efea9",
   "metadata": {},
   "outputs": [],
   "source": []
  },
  {
   "cell_type": "code",
   "execution_count": null,
   "id": "6811d0f3",
   "metadata": {},
   "outputs": [],
   "source": []
  },
  {
   "cell_type": "code",
   "execution_count": null,
   "id": "75743182",
   "metadata": {},
   "outputs": [],
   "source": []
  },
  {
   "cell_type": "code",
   "execution_count": null,
   "id": "ba410128",
   "metadata": {},
   "outputs": [],
   "source": []
  }
 ],
 "metadata": {
  "kernelspec": {
   "display_name": "Python 3",
   "language": "python",
   "name": "python3"
  },
  "language_info": {
   "codemirror_mode": {
    "name": "ipython",
    "version": 3
   },
   "file_extension": ".py",
   "mimetype": "text/x-python",
   "name": "python",
   "nbconvert_exporter": "python",
   "pygments_lexer": "ipython3",
   "version": "3.10.16"
  }
 },
 "nbformat": 4,
 "nbformat_minor": 5
}
